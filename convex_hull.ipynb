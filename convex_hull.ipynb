{
 "cells": [
  {
   "cell_type": "code",
   "execution_count": 7,
   "id": "efaad5bb-bf04-4586-b825-78866bda32c5",
   "metadata": {},
   "outputs": [],
   "source": [
    "import numpy as np\n",
    "import matplotlib.pyplot as plt"
   ]
  },
  {
   "cell_type": "code",
   "execution_count": 8,
   "id": "ab8ea3fe-5daa-475d-b36f-9712eecf890f",
   "metadata": {},
   "outputs": [],
   "source": [
    "\"\"\"\n",
    "    given a set of points `E` returns the point the most on the left on the x-axis.\n",
    "\"\"\"\n",
    "\n",
    "def first_point(E):\n",
    "    xmin, ymin = E[0]\n",
    "    for (x, y) in E:\n",
    "        if x <= xmin :\n",
    "            xmin = x\n",
    "            ymin = y\n",
    "    return (xmin, ymin)\n"
   ]
  },
  {
   "cell_type": "markdown",
   "id": "a419f28d-b641-4c77-9440-c17d0ae34430",
   "metadata": {},
   "source": [
    "The following points are constructed by \"turning\" around the set $\\mathcal{E}$ always in the same direction.\n",
    "More precisely, if $X$ is a point of the convex envelope and $Y_1,Y_2$ is in $\\mathcal{E}$, we say that $Y_1$ is **to the left** of $Y_2$ for the point $X$ if and only if the oriented angle $\\widehat{Y_2XY_1}$ is in $[0,\\pi]$.\n",
    "\n",
    "We need to get the point to the left:\n",
    "\n",
    "For two vectors $u, v \\in \\mathbb{R}^2$, we have : $\\det{(u,v)} = \\left\\Vert u \\right\\Vert \\times \\left\\Vert v \\right\\Vert \\times \\sin{(u, v)}$\n",
    "\n",
    "So : $(u, v) = \\arcsin{\\left(\\frac{\\det{(u,v)}}{\\left\\Vert u \\right\\Vert \\times \\left\\Vert v \\right\\Vert}\\right)}$"
   ]
  },
  {
   "cell_type": "code",
   "execution_count": 13,
   "id": "30fb2d13-6214-44ce-bc74-1cddc4bcbd8b",
   "metadata": {},
   "outputs": [],
   "source": [
    "def left(X, Y1, Y2):\n",
    "    if X == Y2:\n",
    "        return True\n",
    "    elif X == Y1:\n",
    "        return False\n",
    "    \n",
    "    xx, xy = X\n",
    "    y1x, y1y = Y1\n",
    "    y2x, y2y = Y2\n",
    "    \n",
    "    lXY2 = np.sqrt((y2x - xx)**2 + (y2y - xy)**2)\n",
    "    lXY1 = np.sqrt((y1x - xx)**2 + (y1y - xy)**2)\n",
    "    \n",
    "    det = (y2x - xx) * (y1y - xy) - (y2y - xy) * (y1x - xx)\n",
    "    \n",
    "    angle = np.arcsin(det/(lXY1*lXY2))\n",
    "    return 0 <= angle <= np.pi\n",
    "\n",
    "def next_point(E, X):\n",
    "    most_at_left = first_point(E)\n",
    "    for Y in E:\n",
    "        if left(X, Y, most_at_left):\n",
    "            most_at_left = Y\n",
    "    return most_at_left\n"
   ]
  },
  {
   "cell_type": "code",
   "execution_count": 16,
   "id": "a881d5e6-794a-427b-94f3-c43a8af9cf8b",
   "metadata": {},
   "outputs": [],
   "source": [
    "def hull(E):\n",
    "    fp = first_point(E)\n",
    "    hul= [fp]\n",
    "    nextPoint = ()\n",
    "    currentPoint = fp\n",
    "    while nextPoint != fp:\n",
    "        nextPoint = next_point(E, currentPoint)\n",
    "        hul.append(nextPoint)\n",
    "        currentPoint = nextPoint\n",
    "    return hul"
   ]
  },
  {
   "cell_type": "code",
   "execution_count": 20,
   "id": "49e530d5-f79e-4ff9-85a6-93345b007ed5",
   "metadata": {},
   "outputs": [
    {
     "data": {
      "image/png": "[encoded data removed]",
      "text/plain": [
       "<Figure size 432x288 with 1 Axes>"
      ]
     },
     "metadata": {
      "needs_background": "light"
     },
     "output_type": "display_data"
    }
   ],
   "source": [
    "def draw(E):\n",
    "    x = np.array([k for (k, _) in E])\n",
    "    y = np.array([k for (_, k) in E])\n",
    "    plt.scatter(x, y)\n",
    "    \n",
    "    hul = hull(E)\n",
    "    hulx = np.array([k for (k, _) in hul]);\n",
    "    huly = np.array([k for (_, k) in hul]);\n",
    "    plt.plot(hulx, huly, \"vr-\")\n",
    "\n",
    "E = []\n",
    "for _ in range(0, 15):\n",
    "    E.append((np.random.random_sample(), np.random.random_sample()))\n",
    "draw(E)"
   ]
  },
  {
   "cell_type": "code",
   "execution_count": null,
   "id": "b3f6ae8c-d46c-402e-ba6f-948f1908c6dc",
   "metadata": {},
   "outputs": [],
   "source": []
  },
  {
   "cell_type": "code",
   "execution_count": null,
   "id": "4651dc0f-33dd-4c24-94fd-f643ab249799",
   "metadata": {},
   "outputs": [],
   "source": []
  }
 ],
 "metadata": {
  "kernelspec": {
   "display_name": "Python 3 (ipykernel)",
   "language": "python",
   "name": "python3"
  },
  "language_info": {
   "codemirror_mode": {
    "name": "ipython",
    "version": 3
   },
   "file_extension": ".py",
   "mimetype": "text/x-python",
   "name": "python",
   "nbconvert_exporter": "python",
   "pygments_lexer": "ipython3",
   "version": "3.9.12"
  }
 },
 "nbformat": 4,
 "nbformat_minor": 5
}
