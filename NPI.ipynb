{
 "cells": [
  {
   "cell_type": "code",
   "execution_count": 2,
   "metadata": {},
   "outputs": [],
   "source": [
    "def estOperateur(c):\n",
    "    return (c == '+') or (c == '-') or (c == '*') or (c == '/')\n",
    "\n",
    "def calcul(op, n, p):\n",
    "    if op == \"+\":\n",
    "        return n+p\n",
    "    if op == \"-\":\n",
    "        return n-p\n",
    "    if op == '*':\n",
    "        return n*p\n",
    "    if op == '/':\n",
    "        return n/p\n",
    "    \n",
    "def evaluation(s):\n",
    "    pile = []\n",
    "    for e in s:\n",
    "        if e == ' ':\n",
    "            continue\n",
    "        if estOperateur(e):\n",
    "            n = pile.pop()\n",
    "            m = pile.pop()\n",
    "            pile.append(calcul(e, m, n))\n",
    "        else:\n",
    "            pile.append(float(e))\n",
    "    return pile[0]"
   ]
  },
  {
   "cell_type": "code",
   "execution_count": 3,
   "metadata": {},
   "outputs": [
    {
     "name": "stdout",
     "output_type": "stream",
     "text": [
      "15.0\n",
      "7.0\n",
      "19.0\n",
      "15.0\n",
      "76.33333333333333\n"
     ]
    }
   ],
   "source": [
    "print(evaluation(\"1 2 + 4 * 3 +\"))\n",
    "print(evaluation(\"2 6 + 1 -\"))\n",
    "print(evaluation(\"5 3 * 4 +\"))\n",
    "print(evaluation(\"1 2 + 4 * 3 +\"))\n",
    "print(evaluation(\"5 8 3 - * 3 * 3 1 - 2 * 3 / +\"))"
   ]
  },
  {
   "cell_type": "code",
   "execution_count": null,
   "metadata": {},
   "outputs": [],
   "source": []
  }
 ],
 "metadata": {
  "kernelspec": {
   "display_name": "Python 3",
   "language": "python",
   "name": "python3"
  },
  "language_info": {
   "codemirror_mode": {
    "name": "ipython",
    "version": 3
   },
   "file_extension": ".py",
   "mimetype": "text/x-python",
   "name": "python",
   "nbconvert_exporter": "python",
   "pygments_lexer": "ipython3",
   "version": "3.6.3"
  }
 },
 "nbformat": 4,
 "nbformat_minor": 2
}
